{
 "cells": [
  {
   "cell_type": "markdown",
   "metadata": {},
   "source": [
    "# Ex 1"
   ]
  },
  {
   "cell_type": "code",
   "execution_count": 2,
   "metadata": {},
   "outputs": [
    {
     "data": {
      "text/plain": [
       "tensor([0.0900, 0.2447, 0.6652])"
      ]
     },
     "execution_count": 2,
     "metadata": {},
     "output_type": "execute_result"
    }
   ],
   "source": [
    "import torch\n",
    "import torch.nn as nn\n",
    "data = torch.Tensor([1, 2, 3])\n",
    "softmax_function = nn.Softmax(dim=0)\n",
    "output = softmax_function(data)\n",
    "assert round(output[0].item(), 2) == 0.09\n",
    "output"
   ]
  },
  {
   "cell_type": "markdown",
   "metadata": {},
   "source": [
    "# Ex 2"
   ]
  },
  {
   "cell_type": "code",
   "execution_count": 3,
   "metadata": {},
   "outputs": [
    {
     "data": {
      "text/plain": [
       "tensor([0.7054, 0.0351, 0.2595])"
      ]
     },
     "execution_count": 3,
     "metadata": {},
     "output_type": "execute_result"
    }
   ],
   "source": [
    "import torch\n",
    "import torch.nn as nn\n",
    "\n",
    "\n",
    "class MySoftmax(nn.Module):\n",
    "    def __init__(self):\n",
    "        super().__init__()\n",
    "\n",
    "    def forward(self, x):\n",
    "        return torch.exp(x) / torch.sum(torch.exp(x))\n",
    "\n",
    "\n",
    "data = torch.Tensor([5, 2, 4])\n",
    "my_softmax = MySoftmax()\n",
    "output = my_softmax(data)\n",
    "assert round(output[-1].item(), 2) == 0.26\n",
    "output"
   ]
  },
  {
   "cell_type": "markdown",
   "metadata": {},
   "source": [
    "# Ex 3"
   ]
  },
  {
   "cell_type": "code",
   "execution_count": 5,
   "metadata": {},
   "outputs": [
    {
     "data": {
      "text/plain": [
       "tensor([0., 0., nan])"
      ]
     },
     "execution_count": 5,
     "metadata": {},
     "output_type": "execute_result"
    }
   ],
   "source": [
    "import torch\n",
    "import torch.nn as nn\n",
    "\n",
    "\n",
    "class MySoftmax(nn.Module):\n",
    "    def __init__(self):\n",
    "        super().__init__()\n",
    "\n",
    "    def forward(self, x):\n",
    "        return torch.exp(x) / torch.sum(torch.exp(x))\n",
    "\n",
    "\n",
    "data = torch.Tensor([1, 2, 300000000])\n",
    "my_softmax = MySoftmax()\n",
    "output = my_softmax(data)\n",
    "assert round(output[0].item(), 2) == 0.0\n",
    "output"
   ]
  },
  {
   "cell_type": "markdown",
   "metadata": {},
   "source": [
    "# Ex 4"
   ]
  },
  {
   "cell_type": "code",
   "execution_count": 6,
   "metadata": {},
   "outputs": [
    {
     "data": {
      "text/plain": [
       "tensor([0.0900, 0.2447, 0.6652])"
      ]
     },
     "execution_count": 6,
     "metadata": {},
     "output_type": "execute_result"
    }
   ],
   "source": [
    "import torch\n",
    "import torch.nn as nn\n",
    "\n",
    "class SoftmaxStable(nn.Module):\n",
    "    def __init__(self):\n",
    "        super().__init__()\n",
    "\n",
    "    def forward(self, x):\n",
    "        x_max = torch.max(x, dim=0, keepdim=True)\n",
    "        x_exp = torch.exp(x - x_max.values)\n",
    "        partition = x_exp.sum(dim=0, keepdim=True)\n",
    "        return x_exp / partition\n",
    "    \n",
    "data = torch.Tensor([1, 2, 3])\n",
    "softmax_stable = SoftmaxStable()\n",
    "output = softmax_stable(data)\n",
    "assert round(output[-1].item(), 2) == 0.67\n",
    "output"
   ]
  },
  {
   "cell_type": "markdown",
   "metadata": {},
   "source": [
    "# Ex 5"
   ]
  },
  {
   "cell_type": "code",
   "execution_count": 7,
   "metadata": {},
   "outputs": [
    {
     "name": "stdout",
     "output_type": "stream",
     "text": [
      "Student - Name: studentZ2023, YOB: 2011, Grade: 6\n"
     ]
    }
   ],
   "source": [
    "from abc import ABC, abstractmethod\n",
    "\n",
    "class Person(ABC):\n",
    "    def __init__(self, name: str, yob: int):\n",
    "        self._name = name\n",
    "        self._yob = yob\n",
    "\n",
    "    def get_yob(self):\n",
    "        return self.yob\n",
    "    \n",
    "    @abstractmethod\n",
    "    def describe(self):\n",
    "        pass\n",
    "    \n",
    "class Student(Person):\n",
    "    def __init__(self, name: str, yob: int, grade: str):\n",
    "        super().__init__(name, yob)\n",
    "        self._grade = grade\n",
    "        \n",
    "    def describe(self):\n",
    "        print(f\"Student - Name: {self._name}, YOB: {self._yob}, Grade: {self._grade}\")\n",
    "    \n",
    "student1 = Student(name=\"studentZ2023\", yob=2011, grade=\"6\")\n",
    "assert student1._yob == 2011\n",
    "student1.describe()"
   ]
  },
  {
   "cell_type": "markdown",
   "metadata": {},
   "source": [
    "# Ex 6\n"
   ]
  },
  {
   "cell_type": "code",
   "execution_count": 8,
   "metadata": {},
   "outputs": [
    {
     "name": "stdout",
     "output_type": "stream",
     "text": [
      "Teacher - Name: teacherZ2023, YOB: 1991, Subject: History\n"
     ]
    }
   ],
   "source": [
    "from abc import ABC, abstractmethod\n",
    "\n",
    "\n",
    "class Person(ABC):\n",
    "    def __init__(self, name: str, yob: int):\n",
    "        self._name = name\n",
    "        self._yob = yob\n",
    "\n",
    "    def get_yob(self):\n",
    "        return self.yob\n",
    "\n",
    "    @abstractmethod\n",
    "    def describe(self):\n",
    "        pass\n",
    "    \n",
    "class Teacher(Person):\n",
    "    def __init__(self, name: str, yob: int, subject: str):\n",
    "        super().__init__(name, yob)\n",
    "        self._subject = subject\n",
    "\n",
    "    def describe(self):\n",
    "        print(f\"Teacher - Name: {self._name}, YOB: {self._yob}, Subject: {self._subject}\")\n",
    "        \n",
    "teacher1 = Teacher(name=\"teacherZ2023\", yob=1991, subject=\"History\")\n",
    "assert teacher1._yob == 1991\n",
    "teacher1.describe()"
   ]
  },
  {
   "cell_type": "markdown",
   "metadata": {},
   "source": [
    "# Ex 7"
   ]
  },
  {
   "cell_type": "code",
   "execution_count": 9,
   "metadata": {},
   "outputs": [
    {
     "name": "stdout",
     "output_type": "stream",
     "text": [
      "Doctor - Name: doctorZ2023, YOB: 1981, Specialist: Endocrinologists\n"
     ]
    }
   ],
   "source": [
    "from abc import ABC, abstractmethod\n",
    "\n",
    "\n",
    "class Person(ABC):\n",
    "    def __init__(self, name: str, yob: int):\n",
    "        self._name = name\n",
    "        self._yob = yob\n",
    "\n",
    "    def get_yob(self):\n",
    "        return self.yob\n",
    "\n",
    "    @abstractmethod\n",
    "    def describe(self):\n",
    "        pass\n",
    "    \n",
    "class Doctor(Person):\n",
    "    def __init__(self, name: str, yob: int, specialist: str):\n",
    "        super().__init__(name, yob)\n",
    "        self._specialist = specialist\n",
    "\n",
    "    def describe(self):\n",
    "        print(f\"Doctor - Name: {self._name}, YOB: {self._yob}, Specialist: {self._specialist}\")\n",
    "        \n",
    "doctor1 = Doctor(name=\"doctorZ2023\", yob=1981, specialist=\"Endocrinologists\")\n",
    "assert doctor1._yob == 1981\n",
    "doctor1.describe()"
   ]
  },
  {
   "cell_type": "markdown",
   "metadata": {},
   "source": [
    "# Ex 8"
   ]
  },
  {
   "cell_type": "code",
   "execution_count": 11,
   "metadata": {},
   "outputs": [
    {
     "data": {
      "text/plain": [
       "2"
      ]
     },
     "execution_count": 11,
     "metadata": {},
     "output_type": "execute_result"
    }
   ],
   "source": [
    "class Ward:\n",
    "    def __init__(self, name:str):\n",
    "        self.__name = name\n",
    "        self.__listPeople = list()\n",
    "        \n",
    "    def add_person(self, person: Person):\n",
    "        self.__listPeople.append(person)\n",
    "        \n",
    "    def describe(self):\n",
    "        print(f\"Ward: {self.__name}\")\n",
    "        for person in self.__listPeople:\n",
    "            person.describe()\n",
    "            \n",
    "    def count_doctor(self):\n",
    "        count = 0\n",
    "        for person in self.__listPeople:\n",
    "            if isinstance(person, Doctor):\n",
    "                count += 1\n",
    "        return count\n",
    "    \n",
    "student1 = Student(name=\"studentA\", yob=2010, grade=\"7\")\n",
    "teacher1 = Teacher(name=\"teacherA\", yob=1969, subject=\"Math\")\n",
    "teacher2 = Teacher(name=\"teacherB\", yob=1995, subject=\"History\")\n",
    "doctor1 = Doctor(name=\"doctorA\", yob=1945, specialist=\"Endocrinologists\")\n",
    "doctor2 = Doctor(name=\"doctorB\", yob=1975, specialist=\"Cardiologists\")\n",
    "ward1 = Ward(\"Ward1\")\n",
    "ward1.add_person(student1)\n",
    "ward1.add_person(teacher1)\n",
    "ward1.add_person(teacher2)\n",
    "ward1.add_person(doctor1)\n",
    "assert ward1.count_doctor() == 1\n",
    "ward1.add_person(doctor2)\n",
    "\n",
    "ward1.count_doctor()"
   ]
  },
  {
   "cell_type": "markdown",
   "metadata": {},
   "source": [
    "# Ex 9"
   ]
  },
  {
   "cell_type": "code",
   "execution_count": 12,
   "metadata": {},
   "outputs": [
    {
     "name": "stdout",
     "output_type": "stream",
     "text": [
      "False\n"
     ]
    }
   ],
   "source": [
    "class MyStack:\n",
    "    def __init__(self, capacity: int):\n",
    "        self.__capacity = capacity\n",
    "        self.__stack = []\n",
    "        \n",
    "    def is_full(self):\n",
    "        return len(self.__stack) == self.__capacity\n",
    "    \n",
    "    def push(self, value):\n",
    "        if self.is_full():\n",
    "            print(\"Stack is full\")\n",
    "            return\n",
    "        self.__stack.append(value)\n",
    "        \n",
    "stack1 = MyStack(capacity=5)\n",
    "stack1.push(1)\n",
    "assert stack1.is_full() == False\n",
    "stack1.push(2)\n",
    "print(stack1.is_full())"
   ]
  },
  {
   "cell_type": "markdown",
   "metadata": {},
   "source": [
    "# Ex 10"
   ]
  },
  {
   "cell_type": "code",
   "execution_count": 13,
   "metadata": {},
   "outputs": [
    {
     "name": "stdout",
     "output_type": "stream",
     "text": [
      "2\n"
     ]
    }
   ],
   "source": [
    "class MyStack:\n",
    "    def __init__(self, capacity: int):\n",
    "        self.__capacity = capacity\n",
    "        self.__stack = []\n",
    "\n",
    "    def is_full(self):\n",
    "        return len(self.__stack) == self.__capacity\n",
    "\n",
    "    def push(self, value):\n",
    "        if self.is_full():\n",
    "            print(\"Stack is full\")\n",
    "            return\n",
    "        self.__stack.append(value)\n",
    "\n",
    "    def top(self):\n",
    "        if len(self.__stack) == 0:\n",
    "            return None\n",
    "        return self.__stack[-1]\n",
    "\n",
    "stack1 = MyStack(capacity=5)\n",
    "stack1.push(1)\n",
    "assert stack1.is_full() == False\n",
    "stack1.push(2)\n",
    "print(stack1.top())"
   ]
  },
  {
   "cell_type": "markdown",
   "metadata": {},
   "source": [
    "# Ex 11"
   ]
  },
  {
   "cell_type": "code",
   "execution_count": 14,
   "metadata": {},
   "outputs": [
    {
     "name": "stdout",
     "output_type": "stream",
     "text": [
      "False\n"
     ]
    }
   ],
   "source": [
    "class MyQueue:\n",
    "    def __init__(self, capacity: int):\n",
    "        self.__capacity = capacity\n",
    "        self.__queue = []\n",
    "        \n",
    "    def is_full(self):\n",
    "        return len(self.__queue) == self.__capacity\n",
    "    \n",
    "    def enqueue(self, value):\n",
    "        if self.is_full():\n",
    "            print(\"Queue is full\")\n",
    "            return\n",
    "        self.__queue.append(value)\n",
    "        \n",
    "queue1 = MyQueue(capacity=5)\n",
    "queue1.enqueue(1)\n",
    "assert queue1.is_full() == False\n",
    "queue1.enqueue(2)\n",
    "print(queue1.is_full())"
   ]
  },
  {
   "cell_type": "markdown",
   "metadata": {},
   "source": [
    "# Ex 12"
   ]
  },
  {
   "cell_type": "code",
   "execution_count": 15,
   "metadata": {},
   "outputs": [
    {
     "name": "stdout",
     "output_type": "stream",
     "text": [
      "1\n"
     ]
    }
   ],
   "source": [
    "class MyQueue:\n",
    "    def __init__(self, capacity: int):\n",
    "        self.__capacity = capacity\n",
    "        self.__queue = []\n",
    "\n",
    "    def is_full(self):\n",
    "        return len(self.__queue) == self.__capacity\n",
    "\n",
    "    def dequeue(self):\n",
    "        if len(self.__queue) == 0:\n",
    "            return None\n",
    "        return self.__queue.pop(0)\n",
    "\n",
    "    def enqueue(self, value):\n",
    "        if self.is_full():\n",
    "            print(\"Queue is full\")\n",
    "            return\n",
    "        self.__queue.append(value)\n",
    "    \n",
    "    def front(self):\n",
    "        if len(self.__queue) == 0:\n",
    "            return None\n",
    "        return self.__queue[0]\n",
    "\n",
    "\n",
    "queue1 = MyQueue(capacity=5)\n",
    "queue1.enqueue(1)\n",
    "assert queue1.is_full() == False\n",
    "queue1.enqueue(2)\n",
    "print(queue1.front())"
   ]
  }
 ],
 "metadata": {
  "kernelspec": {
   "display_name": "ml",
   "language": "python",
   "name": "python3"
  },
  "language_info": {
   "codemirror_mode": {
    "name": "ipython",
    "version": 3
   },
   "file_extension": ".py",
   "mimetype": "text/x-python",
   "name": "python",
   "nbconvert_exporter": "python",
   "pygments_lexer": "ipython3",
   "version": "3.9.-1"
  }
 },
 "nbformat": 4,
 "nbformat_minor": 2
}
